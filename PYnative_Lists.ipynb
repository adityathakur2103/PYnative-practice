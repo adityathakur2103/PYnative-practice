{
  "nbformat": 4,
  "nbformat_minor": 0,
  "metadata": {
    "colab": {
      "provenance": []
    },
    "kernelspec": {
      "name": "python3",
      "display_name": "Python 3"
    },
    "language_info": {
      "name": "python"
    }
  },
  "cells": [
    {
      "cell_type": "markdown",
      "source": [
        "### Python List Questions\n",
        "\n",
        "Python list is the most widely used data structure, and a good understanding of it is necessary.\n",
        "\n",
        "The below questions include concepts of:\n",
        "* list operations and manipulations\n",
        "* list functions\n",
        "* list slicing\n",
        "* list comprehension"
      ],
      "metadata": {
        "id": "L37xJCNipRGR"
      }
    },
    {
      "cell_type": "code",
      "execution_count": 98,
      "metadata": {
        "colab": {
          "base_uri": "https://localhost:8080/"
        },
        "id": "8e17Ds_5pA99",
        "outputId": "c2f8d35c-d77e-4410-f90d-aac8cf2c769e"
      },
      "outputs": [
        {
          "output_type": "stream",
          "name": "stdout",
          "text": [
            "Reversed list: [500, 400, 300, 200, 100]\n"
          ]
        }
      ],
      "source": [
        "# Exercise 1: Reverse a list in Python\n",
        "\n",
        "list1 = [100, 200, 300, 400, 500]\n",
        "list1.reverse()\n",
        "print(\"Reversed list:\",list1)"
      ]
    },
    {
      "cell_type": "code",
      "source": [
        "# Exercise 2: Concatenate two lists index-wise\n",
        "\n",
        "list1 = [\"M\", \"na\", \"i\", \"Ke\"]\n",
        "list2 = [\"y\", \"me\", \"s\", \"lly\"]\n",
        "res = list(map(lambda x,y: x+y, list1,list2))\n",
        "print(res)"
      ],
      "metadata": {
        "colab": {
          "base_uri": "https://localhost:8080/"
        },
        "id": "mj8mj4sap_QB",
        "outputId": "36b5ae41-3715-40f7-f529-215f4416867a"
      },
      "execution_count": null,
      "outputs": [
        {
          "output_type": "stream",
          "name": "stdout",
          "text": [
            "['My', 'name', 'is', 'Kelly']\n"
          ]
        }
      ]
    },
    {
      "cell_type": "code",
      "source": [
        "# Exercise 3: Turn every item of a list into its square\n",
        "\n",
        "numbers = [1, 2, 3, 4, 5, 6, 7]\n",
        "res = [num**2 for num in numbers]\n",
        "print(res)"
      ],
      "metadata": {
        "colab": {
          "base_uri": "https://localhost:8080/"
        },
        "id": "UiPlln99qLtq",
        "outputId": "c23324c7-9937-40e8-eab3-5b440851e213"
      },
      "execution_count": null,
      "outputs": [
        {
          "output_type": "stream",
          "name": "stdout",
          "text": [
            "[1, 4, 9, 16, 25, 36, 49]\n"
          ]
        }
      ]
    },
    {
      "cell_type": "code",
      "source": [
        "# Exercise 4: Concatenate two lists in the following order\n",
        "\n",
        "list1 = [\"Hello \", \"take \"]\n",
        "list2 = [\"Dear\", \"Sir\"]\n",
        "# Expected Output: ['Hello Dear', 'Hello Sir', 'take Dear', 'take Sir']\n",
        "res = [x+y for x in list1 for y in list2]\n",
        "print(res)"
      ],
      "metadata": {
        "id": "Rm8_Ee5rqp6w",
        "colab": {
          "base_uri": "https://localhost:8080/"
        },
        "outputId": "03a11e9d-1e2e-4fa4-fd05-e8002c8ae0e6"
      },
      "execution_count": 80,
      "outputs": [
        {
          "output_type": "stream",
          "name": "stdout",
          "text": [
            "['Hello Dear', 'Hello Sir', 'take Dear', 'take Sir']\n"
          ]
        }
      ]
    },
    {
      "cell_type": "code",
      "source": [
        "# Exercise 5: Iterate both lists simultaneously\n",
        "\n",
        "list1 = [10, 20, 30, 40]\n",
        "list2 = [100, 200, 300, 400]\n",
        "\n",
        "'''\n",
        "Expected output:\n",
        "10 400\n",
        "20 300\n",
        "30 200\n",
        "40 100\n",
        "'''\n",
        "\n",
        "for x,y in zip(list1, list2[::-1]):\n",
        "  print(x,y)\n"
      ],
      "metadata": {
        "colab": {
          "base_uri": "https://localhost:8080/"
        },
        "id": "XYeTpDQTtY3v",
        "outputId": "eb57e91a-dc9d-401e-cd75-7b27536d36dc"
      },
      "execution_count": null,
      "outputs": [
        {
          "output_type": "stream",
          "name": "stdout",
          "text": [
            "10 400\n",
            "20 300\n",
            "30 200\n",
            "40 100\n"
          ]
        }
      ]
    },
    {
      "cell_type": "code",
      "source": [
        "# Exercise 6: Remove empty strings from the list of strings\n",
        "\n",
        "list1 = [\"Mike\", \"\", \"Emma\", \"Kelly\", \"\", \"Brad\"]\n",
        "\n",
        "res = [l for l in list1 if l!=\"\"]\n",
        "ans = list(filter(None,list1))\n",
        "\n",
        "print(\"My approach -> using a for loop with conditional:\",res)\n",
        "print(\"Pynative approach -> using filter() method: \",ans)"
      ],
      "metadata": {
        "colab": {
          "base_uri": "https://localhost:8080/"
        },
        "id": "MLqPr5l8tdQQ",
        "outputId": "4820934c-1c84-4a93-9ae3-ef5783f09c8d"
      },
      "execution_count": null,
      "outputs": [
        {
          "output_type": "stream",
          "name": "stdout",
          "text": [
            "My approach -> using a for loop with conditional: ['Mike', 'Emma', 'Kelly', 'Brad']\n",
            "Pynative approach -> using filter() method:  ['Mike', 'Emma', 'Kelly', 'Brad']\n"
          ]
        }
      ]
    },
    {
      "cell_type": "code",
      "source": [
        "# Exercise 7: Add new item to list after a specified item\n",
        "\n",
        "list1 = [10, 20, [300, 400, [5000, 6000], 500], 30, 40]\n",
        "print(\"Before appending 7000 to the nested list:\",list1)\n",
        "list1[2][2].append(7000)\n",
        "print(\"After appending 7000 after 6000:\",list1)"
      ],
      "metadata": {
        "id": "BrBW6wN_timd",
        "colab": {
          "base_uri": "https://localhost:8080/"
        },
        "outputId": "6d1e4b6b-e117-43b8-a8fe-a5e1f015989e"
      },
      "execution_count": 74,
      "outputs": [
        {
          "output_type": "stream",
          "name": "stdout",
          "text": [
            "Before appending 7000 to the nested list: [10, 20, [300, 400, [5000, 6000], 500], 30, 40]\n",
            "After appending 7000 after 6000: [10, 20, [300, 400, [5000, 6000, 7000], 500], 30, 40]\n"
          ]
        }
      ]
    },
    {
      "cell_type": "code",
      "source": [
        "# Exercise 8: Extend nested list by adding the sublist\n",
        "\n",
        "list1 = [\"a\", \"b\", [\"c\", [\"d\", \"e\", [\"f\", \"g\"], \"k\"], \"l\"], \"m\", \"n\"]\n",
        "print(\"List before extending sub_list to list1:\",list1)\n",
        "# sub list to add\n",
        "sub_list = [\"h\", \"i\", \"j\"]\n",
        "\n",
        "list1[2][1][2].extend(sub_list)\n",
        "print(\"List after extending sub_list to list1:\",list1)\n"
      ],
      "metadata": {
        "id": "tUpjGA5dt8aT",
        "colab": {
          "base_uri": "https://localhost:8080/"
        },
        "outputId": "00da4b30-c1f1-4278-a72f-85212e36ec4d"
      },
      "execution_count": 78,
      "outputs": [
        {
          "output_type": "stream",
          "name": "stdout",
          "text": [
            "List before extending sub_list to list1: ['a', 'b', ['c', ['d', 'e', ['f', 'g'], 'k'], 'l'], 'm', 'n']\n",
            "List after extending sub_list to list1: ['a', 'b', ['c', ['d', 'e', ['f', 'g', 'h', 'i', 'j'], 'k'], 'l'], 'm', 'n']\n"
          ]
        }
      ]
    },
    {
      "cell_type": "code",
      "source": [
        "# Exercise 9: Replace list’s item with new value if found\n",
        "\n",
        "list1 = [5, 10, 15, 20, 25, 50, 20]\n",
        "temp = list1.index(20)\n",
        "list1[temp] = 200\n",
        "print(list1)"
      ],
      "metadata": {
        "id": "FeOBcF_uuLfB",
        "colab": {
          "base_uri": "https://localhost:8080/"
        },
        "outputId": "fbf1890b-da3a-4e06-df74-749d5c37231b"
      },
      "execution_count": 79,
      "outputs": [
        {
          "output_type": "stream",
          "name": "stdout",
          "text": [
            "[5, 10, 15, 200, 25, 50, 20]\n"
          ]
        }
      ]
    },
    {
      "cell_type": "code",
      "source": [
        "# Exercise 10: Remove all occurrences of a specific item from a list.\n",
        "\n",
        "list1 = [5, 20, 15, 20, 25, 50, 20]\n",
        "while 20 in list1:\n",
        "  list1.remove(20)\n",
        "print(list1)"
      ],
      "metadata": {
        "id": "TUeFzwENuf91",
        "colab": {
          "base_uri": "https://localhost:8080/"
        },
        "outputId": "b03d8e67-c3ef-4993-ed56-afb6e5d144f7"
      },
      "execution_count": 81,
      "outputs": [
        {
          "output_type": "stream",
          "name": "stdout",
          "text": [
            "[5, 15, 25, 50]\n"
          ]
        }
      ]
    }
  ]
}